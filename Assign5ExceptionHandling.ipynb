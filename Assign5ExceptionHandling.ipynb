{
 "cells": [
  {
   "cell_type": "markdown",
   "metadata": {},
   "source": [
    "<strong><h3>Ques 1</h3> Write a function to compute 5/0 and use try/except to catch the exceptions.</strong>"
   ]
  },
  {
   "cell_type": "code",
   "execution_count": 6,
   "metadata": {},
   "outputs": [
    {
     "name": "stdout",
     "output_type": "stream",
     "text": [
      "Enter a and b : 5 0\n",
      "Cannot Divide by zero :  division by zero\n"
     ]
    }
   ],
   "source": [
    "[a,b]=list(map(int,input(\"Enter a and b : \").split()))\n",
    "\n",
    "try:\n",
    "    result=a/b\n",
    "    print(result)\n",
    "except ZeroDivisionError as  e:\n",
    "    print(\"Cannot Divide by zero : \",e)"
   ]
  },
  {
   "cell_type": "markdown",
   "metadata": {},
   "source": [
    "<strong><h3>Ques 2</h3>Implement a Python program to generate all sentences where subject is in\n",
    "[\"Americans\", \"Indians\"] and verb is in [\"Play\", \"watch\"] and the object is in\n",
    "[\"Baseball\",\"cricket\"].<br>\n",
    "Hint: Subject,Verb and Object should be declared in the program as shown below.<br>\n",
    "subjects=[\"Americans \",\"Indians\"]<br>\n",
    "verbs=[\"play\",\"watch\"]<br>\n",
    "objects=[\"Baseball\",\"Cricket\"]</strong>"
   ]
  },
  {
   "cell_type": "code",
   "execution_count": 2,
   "metadata": {},
   "outputs": [
    {
     "data": {
      "text/plain": [
       "[['Americans ', 'play', 'Baseball'],\n",
       " ['Americans ', 'play', 'Cricket'],\n",
       " ['Americans ', 'watch', 'Baseball'],\n",
       " ['Americans ', 'watch', 'Cricket'],\n",
       " ['Indians', 'play', 'Baseball'],\n",
       " ['Indians', 'play', 'Cricket'],\n",
       " ['Indians', 'watch', 'Baseball'],\n",
       " ['Indians', 'watch', 'Cricket']]"
      ]
     },
     "execution_count": 2,
     "metadata": {},
     "output_type": "execute_result"
    }
   ],
   "source": [
    "subjects=[\"Americans \",\"Indians\"]\n",
    "verbs=[\"play\",\"watch\"]\n",
    "objects=[\"Baseball\",\"Cricket\"]\n",
    "\n",
    "sentences=[[x,y,z] for x in subjects for y in verbs for z in objects]\n",
    "sentences"
   ]
  }
 ],
 "metadata": {
  "kernelspec": {
   "display_name": "Python 3",
   "language": "python",
   "name": "python3"
  },
  "language_info": {
   "codemirror_mode": {
    "name": "ipython",
    "version": 3
   },
   "file_extension": ".py",
   "mimetype": "text/x-python",
   "name": "python",
   "nbconvert_exporter": "python",
   "pygments_lexer": "ipython3",
   "version": "3.7.4"
  }
 },
 "nbformat": 4,
 "nbformat_minor": 2
}
